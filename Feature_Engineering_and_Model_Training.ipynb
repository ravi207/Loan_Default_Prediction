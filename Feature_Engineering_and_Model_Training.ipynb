{
 "cells": [
  {
   "cell_type": "code",
   "execution_count": 584,
   "metadata": {},
   "outputs": [],
   "source": [
    "# loading the necessary libraries\n",
    "import pandas as pd\n",
    "import numpy as np\n",
    "import pandas as pd\n",
    "from sklearn.model_selection import train_test_split\n",
    "from sklearn.feature_extraction.text import CountVectorizer\n",
    "from sklearn.preprocessing import MinMaxScaler\n",
    "from sklearn.linear_model import LogisticRegression\n",
    "import warnings\n",
    "from sklearn.tree import DecisionTreeClassifier\n",
    "warnings.filterwarnings(\"ignore\")\n",
    "from xgboost import plot_importance"
   ]
  },
  {
   "cell_type": "markdown",
   "metadata": {},
   "source": [
    "## INDEX\n",
    "\n",
    "###  <a href='#1'>1. FEATURE ENGINEERING</a>\n",
    "\n",
    "###  <a href='#2'>2. MODEL TRAINING</a>\n",
    "\n",
    "    *  <a href='#2.1'>2.1 LOGSITIC REGRESSION</a>\n",
    "\n",
    "    *  <a href='#2.2'>2.2 DECISION TREE</a>\n",
    "\n",
    "    *  <a href='#2.3'>2.3 XG BOOST</a>\n",
    "\n",
    "###  <a href='#3'>3. INFERENCES FROM MODEL TRAINING</a>\n",
    "\n",
    "###  <a href='#4'>4. IDENTIFYING HIGH LOAN DEFAULTS</a>\n",
    "\n",
    "###  <a href='#5'>5. POTENTIAL FUTURE IMPROVEMENTS</a>\n",
    "\n",
    "###  <a href='#6'>6. TEST SET</a>\n"
   ]
  },
  {
   "cell_type": "markdown",
   "metadata": {},
   "source": [
    "<a id='1'></a>\n",
    "\n",
    "## 1. FEATURE ENGINEERING"
   ]
  },
  {
   "cell_type": "markdown",
   "metadata": {},
   "source": [
    "\n",
    "### Based on our eda I would be trying out following additional feature engineering on top of the feautures avaiable and later check how they perform during model training\n",
    "\n",
    "\n",
    "* loan amount w.r.t annual income\n",
    "* ratio of total open accounts\n",
    "* EMI of customer (loan amount/term)\n",
    "* total coll amount \n",
    "* loan amount w.r.t total curr balance\n",
    "* total interest payble on loan (interest times loan amount)\n",
    "* converting last week pay,emp_length into numerical values\n"
   ]
  },
  {
   "cell_type": "code",
   "execution_count": 725,
   "metadata": {},
   "outputs": [],
   "source": [
    "# reading the required files\n",
    "import os\n",
    "path = 'D:\\Dataset\\ML_Artivatic_dataset\\ML_Artivatic_dataset'\n",
    "os.chdir(path)\n",
    "train = pd.read_csv('train_indessa.csv')"
   ]
  },
  {
   "cell_type": "code",
   "execution_count": 726,
   "metadata": {},
   "outputs": [],
   "source": [
    "def fillna(df):\n",
    "    df.fillna(df.select_dtypes(['int32','int64','float32','float64']).median().iloc[0], inplace=True)\n",
    "    df.fillna(df.select_dtypes(['object']).mode().iloc[0], inplace=True) \n",
    "    return df"
   ]
  },
  {
   "cell_type": "code",
   "execution_count": 727,
   "metadata": {},
   "outputs": [],
   "source": [
    "# filling null values, filling numerical values with median and categorical values with mode\n",
    "train = fillna(train)"
   ]
  },
  {
   "cell_type": "code",
   "execution_count": 728,
   "metadata": {},
   "outputs": [],
   "source": [
    "def get_features(df):\n",
    "    '''this function creates the additional features and returns the final dataframe'''\n",
    "    df['term'] = df['term'].map({'36 months':36,'60 months':60})\n",
    "    df['loan_amnt_wrt_inc'] = np.round(df['loan_amnt']/df['annual_inc']*100,1)\n",
    "    df['ratio_open_accounts'] = np.round(df['open_acc']/df['total_acc']*100,1)\n",
    "    df['interest_payble'] = np.round(df['int_rate']*df['loan_amnt']/100,1)\n",
    "    df['EMI'] = np.round((df['loan_amnt']+df['interest_payble'])/(df['term'])*100,1)\n",
    "    df['last_week_pay'] = df['last_week_pay'].str.extract('(\\d{1,5})')\n",
    "    df['last_week_pay'].fillna(df['last_week_pay'].mode().values[0],inplace=True)\n",
    "    df['last_week_pay'] = df['last_week_pay'].astype(int)\n",
    "    df['emp_length'] = df['emp_length'].str.extract('(\\d{1,3})')#.astype(int)\n",
    "    df['emp_length'].fillna(df['emp_length'].mode().values[0],inplace=True)\n",
    "    df['emp_length'] = df['emp_length'].astype(int)\n",
    "    # to handle divide by 0 cases for derived features where we are dividing by other columns\n",
    "    df = df.replace([np.inf, -np.inf], -1)\n",
    "    return df"
   ]
  },
  {
   "cell_type": "code",
   "execution_count": 729,
   "metadata": {},
   "outputs": [],
   "source": [
    "def remove_cols(df,is_train):\n",
    "    '''this function removes columns with high number of null values,highly correlated features and categorical features with single category values mostly'''\n",
    "    rem_cols = ['verification_status_joint','desc','mths_since_last_record','funded_amnt','funded_amnt_inv','application_type','pymnt_plan','emp_title','recoveries','collection_recovery_fee','collections_12_mths_ex_med','zip_code','batch_enrolled','title']\n",
    "    final_cols = list(set(train.columns.tolist()) - (set(rem_cols)))\n",
    "    if is_train==False:\n",
    "        final_cols.remove('loan_status')\n",
    "    df = df[final_cols]\n",
    "    return df,final_cols"
   ]
  },
  {
   "cell_type": "code",
   "execution_count": 730,
   "metadata": {},
   "outputs": [],
   "source": [
    "def get_cat_num_cols(df):\n",
    "    '''this function returns the categorical and numerical features based on the datatypes'''\n",
    "    cat_cols = list(df.select_dtypes(['object']).columns)\n",
    "    num_cols = list(df.select_dtypes(['int32','int64','float32','float64']).columns)\n",
    "    num_cols.remove('member_id')\n",
    "    if loan_status in num_cols:\n",
    "        num_cols.remove('loan_status')\n",
    "    return cat_cols,num_cols"
   ]
  },
  {
   "cell_type": "code",
   "execution_count": 1,
   "metadata": {},
   "outputs": [],
   "source": [
    "# getting additional features and fetching numerial and categorical feature names seperately\n",
    "train = get_features(train)\n",
    "train,final_columns = remove_cols(train,is_train=True)\n",
    "cat_cols,num_cols = get_cat_num_cols(train)"
   ]
  },
  {
   "cell_type": "code",
   "execution_count": null,
   "metadata": {},
   "outputs": [],
   "source": [
    "# shuffling the data\n",
    "train = train.sample(frac=1)"
   ]
  },
  {
   "cell_type": "code",
   "execution_count": 593,
   "metadata": {},
   "outputs": [],
   "source": [
    "# Splitting the data into train and test set\n",
    "train_features, test_features, train_y, test_y = train_test_split(train[final_columns],train['loan_status'],test_size = 0.25)"
   ]
  },
  {
   "cell_type": "code",
   "execution_count": 594,
   "metadata": {},
   "outputs": [],
   "source": [
    "# Creating count vectorizers for each category colums to one hot encode them later\n",
    "count_vects = {}\n",
    "for col in cat_cols:    \n",
    "    vect = CountVectorizer(analyzer = 'char',token_pattern = r\"(?u)\\b\\w+\\b\")\n",
    "    vect.fit(train_features[col])\n",
    "    count_vects.update({col:vect}) "
   ]
  },
  {
   "cell_type": "code",
   "execution_count": 595,
   "metadata": {},
   "outputs": [],
   "source": [
    "def get_encoded_category_features(df,cat_cols,count_vects):\n",
    "    '''this function returns one hot encoded categorical features'''\n",
    "    df_ls = []\n",
    "    for col in cat_cols:\n",
    "        encoded_vect = count_vects[col].transform(df[col])\n",
    "        temp_df = pd.DataFrame(encoded_vect.toarray(),index = df.index).add_prefix('{}_'.format(col))\n",
    "        df_ls.append(temp_df)\n",
    "    return pd.concat(df_ls,axis=1)      "
   ]
  },
  {
   "cell_type": "code",
   "execution_count": 748,
   "metadata": {},
   "outputs": [],
   "source": [
    "# Normalizing the numerical features since during modelling phase we would try out models like Logisitc Regression which could get affected by scale of features\n",
    "scaler = MinMaxScaler()\n",
    "scaler.fit(train_features[num_cols])   \n",
    "def get_normalized_features(df,num_cols,scaler):\n",
    "    '''this function takes the numerical columns and returns them in their normalized form'''\n",
    "    normalized_features = scaler.transform(df[num_cols])\n",
    "    normalized_features = pd.DataFrame(normalized_features,index = df.index,columns=num_cols)\n",
    "    normalized_features[['member_id']] = df[['member_id']]\n",
    "    return normalized_features"
   ]
  },
  {
   "cell_type": "code",
   "execution_count": 597,
   "metadata": {},
   "outputs": [],
   "source": [
    "# getting normalized numerical features and categorical features and combining them into final dataframe\n",
    "train_num = get_normalized_features(train_features,num_cols,scaler)\n",
    "test_num = get_normalized_features(test_features,num_cols,scaler)\n",
    "train_cat = get_encoded_category_features(train_features,cat_cols,count_vects)\n",
    "test_cat = get_encoded_category_features(test_features,cat_cols,count_vects)\n",
    "final_train = pd.concat([train_num,train_cat],axis=1)\n",
    "final_test = pd.concat([test_num,test_cat],axis=1)"
   ]
  },
  {
   "cell_type": "code",
   "execution_count": 598,
   "metadata": {},
   "outputs": [
    {
     "data": {
      "text/plain": [
       "((399321, 119), (133107, 119))"
      ]
     },
     "execution_count": 598,
     "metadata": {},
     "output_type": "execute_result"
    }
   ],
   "source": [
    "final_train.shape,final_test.shape"
   ]
  },
  {
   "cell_type": "markdown",
   "metadata": {},
   "source": [
    "<a id='2'></a>\n",
    "\n",
    "## 2. MODEL TRAINING"
   ]
  },
  {
   "cell_type": "code",
   "execution_count": null,
   "metadata": {},
   "outputs": [],
   "source": [
    "# GETTING THE FINAL COLUM LIST FOR TRANING\n",
    "cols = list(set(final_train.columns.tolist()) - (set(['member_id','loan_status'])))"
   ]
  },
  {
   "cell_type": "markdown",
   "metadata": {},
   "source": [
    "<a id='2.1'></a>\n",
    "\n",
    "### 2.1 LOGISTIC REGRESSION"
   ]
  },
  {
   "cell_type": "code",
   "execution_count": 614,
   "metadata": {},
   "outputs": [
    {
     "name": "stdout",
     "output_type": "stream",
     "text": [
      "for c = 1e-06\n",
      "auc roc : 0.7100809786639026\n",
      "for c = 1e-05\n",
      "auc roc : 0.719373839047887\n",
      "for c = 0.0001\n",
      "auc roc : 0.7306498506344627\n",
      "for c = 0.001\n",
      "auc roc : 0.7509912632278198\n",
      "for c = 0.01\n",
      "auc roc : 0.7929828152362847\n",
      "for c = 0.1\n",
      "auc roc : 0.8142187847814719\n",
      "for c = 1\n",
      "auc roc : 0.8166226666388094\n",
      "for c = 10\n",
      "auc roc : 0.8171139227479673\n",
      "for c = 100\n",
      "auc roc : 0.8173477448118415\n"
     ]
    },
    {
     "data": {
      "image/png": "[encoded data removed]",
      "text/plain": [
       "<Figure size 720x360 with 1 Axes>"
      ]
     },
     "metadata": {
      "needs_background": "light"
     },
     "output_type": "display_data"
    },
    {
     "name": "stdout",
     "output_type": "stream",
     "text": [
      "For values of best C =  100 The train roc auc is: 0.8164413985274885\n",
      "For values of best C =  100 The test roc auc is: 0.8173477448118415\n"
     ]
    }
   ],
   "source": [
    "# TRYING OUT LOGISTIC REGRESSION FOR VARIOUS OF REGULARIZATION PARAMETERS AND PLOTTING THE PERFORMANCE ON TEST SET \n",
    "c = [10 ** x for x in range(-6, 3)]\n",
    "test_auc_array = []\n",
    "for i in c:\n",
    "    print(\"for c =\", i)\n",
    "    clf = LogisticRegression(C=i)\n",
    "    clf.fit(final_train[cols], train_y)\n",
    "    clf_probs = clf.predict_proba(final_test[cols])\n",
    "    test_auc_array.append(roc_auc_score(test_y, list(map(lambda row:row[1],clf_probs))))\n",
    "    print(\"auc roc :\",roc_auc_score(test_y,list(map(lambda row:row[1],clf_probs)))) \n",
    "\n",
    "fig, ax = plt.subplots(figsize=(10,5))\n",
    "ax.plot(c, test_auc_array,c='g')\n",
    "\n",
    "for i, txt in enumerate(np.round(test_auc_array,3)):\n",
    "    ax.annotate((c[i],str(txt)), (c[i],test_auc_array[i]))\n",
    "plt.grid()\n",
    "plt.title(\"Test AUC for each C's\")\n",
    "plt.xlabel(\"C i's\")\n",
    "plt.ylabel(\"ROC AUC\")\n",
    "plt.show()\n",
    "best_c = np.argmax(test_auc_array)\n",
    "logreg_clf = LogisticRegression(C= c[best_c], random_state=42)\n",
    "logreg_clf.fit(final_train[cols], train_y)\n",
    "predict_y = logreg_clf.predict_proba(final_train[cols])\n",
    "predict_y = list(map(lambda row:row[1],predict_y))\n",
    "print('For values of best C = ', c[best_c], \"The train roc auc is:\",roc_auc_score(train_y, predict_y))\n",
    "predict_y = logreg_clf.predict_proba(final_test[cols])\n",
    "predict_y = list(map(lambda row:row[1],predict_y))\n",
    "print('For values of best C = ', c[best_c], \"The test roc auc is:\",roc_auc_score(test_y, predict_y))"
   ]
  },
  {
   "cell_type": "markdown",
   "metadata": {},
   "source": [
    "<a id='2.2'></a>\n",
    "\n",
    "### 2.2 DECISION TREE"
   ]
  },
  {
   "cell_type": "code",
   "execution_count": 615,
   "metadata": {},
   "outputs": [
    {
     "name": "stdout",
     "output_type": "stream",
     "text": [
      "for minimum samples for split = 2\n",
      "auc roc : 0.750412297826667\n",
      "for minimum samples for split = 3\n",
      "auc roc : 0.7687485795836494\n",
      "for minimum samples for split = 5\n",
      "auc roc : 0.7914795434694611\n",
      "for minimum samples for split = 10\n",
      "auc roc : 0.8170673265145605\n",
      "for minimum samples for split = 15\n",
      "auc roc : 0.8292917720999092\n",
      "for minimum samples for split = 20\n",
      "auc roc : 0.8350405756663293\n",
      "for minimum samples for split = 30\n",
      "auc roc : 0.8409792032570726\n",
      "for minimum samples for split = 35\n",
      "auc roc : 0.8428248520507391\n",
      "for minimum samples for split = 40\n",
      "auc roc : 0.8447076426785866\n",
      "for minimum samples for split = 50\n",
      "auc roc : 0.8475839399723035\n",
      "for minimum samples for split = 100\n",
      "auc roc : 0.8435768941766411\n"
     ]
    },
    {
     "data": {
      "image/png": "[encoded data removed]",
      "text/plain": [
       "<Figure size 432x288 with 1 Axes>"
      ]
     },
     "metadata": {
      "needs_background": "light"
     },
     "output_type": "display_data"
    },
    {
     "name": "stdout",
     "output_type": "stream",
     "text": [
      "For values of best min samples =  9 The train auc is: 0.907866536297141\n",
      "For values of best min samples =  9 The test auc is: 0.8474409305288768\n"
     ]
    }
   ],
   "source": [
    "# FITTING A DECISION TREE FOR VARIOUS VALUES OF MINIMUM SAMPLES AND PLOTTING PERFORMANCES\n",
    "min_split_samples = [2,3,5,10,15,20,30,35,40,50,100]\n",
    "roc_auc_array = []\n",
    "for i in min_split_samples:\n",
    "    print(\"for minimum samples for split =\", i)\n",
    "    clf = DecisionTreeClassifier(min_samples_leaf=i)\n",
    "    clf.fit(final_train[cols], train_y)\n",
    "    clf_probs = clf.predict_proba(final_test[cols])\n",
    "    roc_auc_array.append(roc_auc_score(test_y, list(map(lambda row:row[1],clf_probs))))\n",
    "    print(\"auc roc :\",roc_auc_score(test_y,list(map(lambda row:row[1],clf_probs)))) \n",
    "\n",
    "fig, ax = plt.subplots()\n",
    "ax.plot(min_split_samples,roc_auc_array,c='g')\n",
    "for i, txt in enumerate(np.round(cv_log_error_array,3)):\n",
    "    ax.annotate((min_split_samples[i],str(txt)), (min_split_samples[i],roc_auc_array[i]))\n",
    "plt.grid()\n",
    "plt.title(\"test roc auc for each minimum samples\")\n",
    "plt.xlabel(\"minimum samples i's\")\n",
    "plt.ylabel(\"Error measure\")\n",
    "plt.show()\n",
    "\n",
    "\n",
    "best_min_samples = np.argmax(roc_auc_array)\n",
    "dt_clf = DecisionTreeClassifier(min_samples_leaf = min_split_samples[best_min_samples])\n",
    "dt_clf.fit(final_train[cols], train_y)\n",
    "\n",
    "pred = dt_clf.predict_proba(final_train[cols])\n",
    "pred = list(map(lambda row:row[1],pred))\n",
    "print('For values of best min samples = ',best_min_samples, \"The train auc is:\",roc_auc_score(train_y, pred))\n",
    "pred = dt_clf.predict_proba(final_test[cols])\n",
    "pred = list(map(lambda row:row[1],pred))\n",
    "print('For values of best min samples = ', best_min_samples, \"The test auc is:\",roc_auc_score(test_y, pred))"
   ]
  },
  {
   "cell_type": "markdown",
   "metadata": {},
   "source": [
    "<a id='2.3'></a>\n",
    "\n",
    "### 2.3 XGBOOST"
   ]
  },
  {
   "cell_type": "markdown",
   "metadata": {},
   "source": [
    "Due to resource constraint I am not tuning the hyperparameters of xgboost and going with some tentative hyperparameters."
   ]
  },
  {
   "cell_type": "code",
   "execution_count": 617,
   "metadata": {},
   "outputs": [
    {
     "data": {
      "text/plain": [
       "XGBClassifier(base_score=0.5, booster='gbtree', colsample_bylevel=1,\n",
       "              colsample_bynode=1, colsample_bytree=1, gamma=0, gpu_id=-1,\n",
       "              importance_type='gain', interaction_constraints='',\n",
       "              learning_rate=0.300000012, max_delta_step=0, max_depth=5,\n",
       "              min_child_weight=1, missing=nan, monotone_constraints='()',\n",
       "              n_estimators=300, n_jobs=0, num_parallel_tree=1,\n",
       "              objective='binary:logistic', random_state=0, reg_alpha=0,\n",
       "              reg_lambda=1, scale_pos_weight=1, subsample=1,\n",
       "              tree_method='exact', validate_parameters=1, verbosity=None)"
      ]
     },
     "execution_count": 617,
     "metadata": {},
     "output_type": "execute_result"
    }
   ],
   "source": [
    "from xgboost import XGBClassifier, plot_importance,to_graphviz\n",
    "param = {'max_depth':5,'n_estimators':300}\n",
    "xgb = XGBClassifier(**param)\n",
    "xgb.fit(final_train[cols],train_y)"
   ]
  },
  {
   "cell_type": "code",
   "execution_count": 621,
   "metadata": {},
   "outputs": [
    {
     "name": "stdout",
     "output_type": "stream",
     "text": [
      "The train auc is  :  0.942320951962552\n",
      "The test auc is  :  0.9268408375357639\n"
     ]
    }
   ],
   "source": [
    "pred = xgb.predict_proba(final_train[cols])\n",
    "pred = list(map(lambda row:row[1],pred))\n",
    "print(\"The train auc is  : \", roc_auc_score(train_y, pred))\n",
    "pred = xgb.predict_proba(final_test[cols])\n",
    "pred = list(map(lambda row:row[1],pred))\n",
    "print(\"The test auc is  : \", roc_auc_score(test_y, pred))"
   ]
  },
  {
   "cell_type": "code",
   "execution_count": 782,
   "metadata": {},
   "outputs": [
    {
     "data": {
      "text/plain": [
       "<matplotlib.axes._subplots.AxesSubplot at 0x266aaffcec8>"
      ]
     },
     "execution_count": 782,
     "metadata": {},
     "output_type": "execute_result"
    },
    {
     "data": {
      "image/png": "[encoded data removed]",
      "text/plain": [
       "<Figure size 432x288 with 1 Axes>"
      ]
     },
     "metadata": {
      "needs_background": "light"
     },
     "output_type": "display_data"
    }
   ],
   "source": [
    "plot_importance(xgb,max_num_features = 10)"
   ]
  },
  {
   "cell_type": "markdown",
   "metadata": {},
   "source": [
    "<a id='3'></a>\n",
    "\n",
    "## 3. INFERENCES FROM MODEL TRAINING\n",
    "\n",
    "* Tree Based Algorithm seems to work better as compared to Logistic Regression probably due to the nature of the problem<br><br>\n",
    "\n",
    "* While Logisitic Regression tries to divide the feature space into two broad regions (assuming binary classification) by finding the hyperplane which best segregrates the classes wheras Decision Tree tries to break the feature space into smaller regions by setting thresholds across features (conditions) eventually finding set of points which are pure i.e have same classes<br><br>  \n",
    "\n",
    "* In this case intuitvely also it seems finding these chunk of good borrowers/bad borrowers is eventually __based on a set of rules/conditions_ for example like a customer having high number enquriries recently, having defaults in other loans in the past, having high exisiting debts is tend to default more and Decison Trees are ideal to find these set of rules/conditions__<br><br>\n",
    "\n",
    "* XGBoost gave the best roc-auc (0.926) probably since it is an ensemble technique involving decision trees (a set sequential trees are present where each tree learns from the error of previous trees) hence it was able to capture some potential complex patterns which were missed by a single decision tree.<br><br>\n",
    "\n",
    "* Training and test peformance metrics are almost similar in all the models suggesting our models are not facing problem of overfitting/underfitting (Decision Tree was facing problem of overfitting slightly which was improved boosting)<br><br>\n",
    "\n",
    "* Looking at the feature importances it seems __interest rate on the loan is the biggest indicator of defaults, which kind of makes sense as well higher interest rate means more riskier the customer__, apart from the customers exisiting liability ratio(dti) was also quite important and one of the derived features interest payble was in top 5 probably becasuse int_rate alone was the strongest feature hence featured derived from it also help high feature importance"
   ]
  },
  {
   "cell_type": "markdown",
   "metadata": {},
   "source": [
    "<a id='4'></a>\n",
    "\n",
    "## 4. IDENTIFYING HIGH LOAN DEFAULTS\n",
    "\n",
    "As mentioned in our problem statement high loan amount defaults are more riskier hence the bank wants to perform an additional scrutiny on high loan amount applications (>=20000), below is the strategy that I am going to try out\n",
    "\n",
    "__In order for model to specifically indentify these high loan defaults well, in the training phase we will specifically oversample these high loan defaults so that model could get to see more of these cases and learn potential high loan default patterns better__"
   ]
  },
  {
   "cell_type": "code",
   "execution_count": 622,
   "metadata": {},
   "outputs": [],
   "source": [
    "#Let us first look at overall performance of our model and performance across loans>20k specifically"
   ]
  },
  {
   "cell_type": "code",
   "execution_count": 641,
   "metadata": {},
   "outputs": [],
   "source": [
    "high_inc_indexes = train[(train.index.isin(final_test.index))&(train['loan_amnt']>=20000)].index\n",
    "high_inc_features = final_test[final_test.index.isin(high_inc_indexes)]\n",
    "high_inc_target = test_y[test_y.index.isin(high_inc_indexes)]"
   ]
  },
  {
   "cell_type": "code",
   "execution_count": 644,
   "metadata": {},
   "outputs": [
    {
     "name": "stdout",
     "output_type": "stream",
     "text": [
      "The test auc for overall test set  :  0.9268408375357639\n",
      "The test auc is for high loan sizes(>=20000)  :  0.9148094405852081\n"
     ]
    }
   ],
   "source": [
    "pred = xgb.predict_proba(final_test[cols])\n",
    "pred = list(map(lambda row:row[1],pred))\n",
    "print(\"The test auc for overall test set  : \", roc_auc_score(test_y, pred))\n",
    "\n",
    "pred = xgb.predict_proba(high_inc_features[cols])\n",
    "pred = list(map(lambda row:row[1],pred))\n",
    "print(\"The test auc is for high loan sizes(>=20000)  : \", roc_auc_score(high_inc_target, pred))"
   ]
  },
  {
   "cell_type": "markdown",
   "metadata": {},
   "source": [
    "###  AUC across high loan size population is slightly lower as compared to overall, let us try to see if we could improve it"
   ]
  },
  {
   "cell_type": "code",
   "execution_count": 652,
   "metadata": {},
   "outputs": [],
   "source": [
    "# fetching indexes of high loan defaults from train dataset\n",
    "high_inc_default_in_train_indexes = train[(train.index.isin(final_train.index))&(train['loan_amnt']>=20000)&(train['loan_status']==1)].index\n",
    "additional_features = final_train[final_train.index.isin(high_inc_default_in_train_indexes)]\n",
    "additional_labels = train_y[train_y.index.isin(high_inc_default_in_train_indexes)]"
   ]
  },
  {
   "cell_type": "markdown",
   "metadata": {},
   "source": [
    "### Let us oversample our training data with these high loan defaults and retrain the model on this oversampled training set"
   ]
  },
  {
   "cell_type": "code",
   "execution_count": 672,
   "metadata": {},
   "outputs": [],
   "source": [
    "# oversampling the training data with high loan defaults\n",
    "oversampled_train = pd.concat([final_train,additional_features],axis=0)\n",
    "oversampled_train_y = pd.concat([train_y,additional_labels],axis=0)"
   ]
  },
  {
   "cell_type": "code",
   "execution_count": 679,
   "metadata": {},
   "outputs": [
    {
     "data": {
      "text/plain": [
       "XGBClassifier(base_score=0.5, booster='gbtree', colsample_bylevel=1,\n",
       "              colsample_bynode=1, colsample_bytree=1, gamma=0, gpu_id=-1,\n",
       "              importance_type='gain', interaction_constraints='',\n",
       "              learning_rate=0.300000012, max_delta_step=0, max_depth=5,\n",
       "              min_child_weight=1, missing=nan, monotone_constraints='()',\n",
       "              n_estimators=500, n_jobs=0, num_parallel_tree=1,\n",
       "              objective='binary:logistic', random_state=0, reg_alpha=0,\n",
       "              reg_lambda=1, scale_pos_weight=1, subsample=1,\n",
       "              tree_method='exact', validate_parameters=1, verbosity=None)"
      ]
     },
     "execution_count": 679,
     "metadata": {},
     "output_type": "execute_result"
    }
   ],
   "source": [
    "# retraining our xgboost with the oversampled data\n",
    "param = {'max_depth':5,'n_estimators':300}\n",
    "xgb = XGBClassifier(**param)\n",
    "xgb.fit(oversampled_train[cols],oversampled_train_y)"
   ]
  },
  {
   "cell_type": "code",
   "execution_count": 680,
   "metadata": {},
   "outputs": [
    {
     "name": "stdout",
     "output_type": "stream",
     "text": [
      "The test auc is for high loan sizes(>=20000)  :  0.9161370239752924\n"
     ]
    }
   ],
   "source": [
    "pred = xgb.predict_proba(high_inc_features[cols])\n",
    "pred = list(map(lambda row:row[1],pred))\n",
    "print(\"The test auc is for high loan sizes(>=20000)  : \", roc_auc_score(high_inc_target, pred))"
   ]
  },
  {
   "cell_type": "markdown",
   "metadata": {},
   "source": [
    "### Even though not significant but there was a slight increase in auc of the test set with loan amount>=20000 "
   ]
  },
  {
   "cell_type": "markdown",
   "metadata": {},
   "source": [
    "<a id='5'></a>\n",
    "\n",
    "## 5. POTENTIAL FUTURE IMPROVEMENTS\n",
    "\n",
    "* Instead of repeating points __new synthetic points__ could be generated using SMOTE <br><br>\n",
    "* A seperate model could be trained on population with loan ticket size >=20000 <br><br>\n",
    "* Two models could be trained one on overall data and one on population>=20000 and __later stacked together by combining both model probabilities using a logistic regression or a decision tree__ to get a final prediction probability <br><br>\n",
    "* Revisit the removed features, combine exisiting important features and generate more derived features in feature engineering"
   ]
  },
  {
   "cell_type": "markdown",
   "metadata": {},
   "source": [
    "<a id='6'></a>\n",
    "\n",
    "## 6. TEST SET"
   ]
  },
  {
   "cell_type": "code",
   "execution_count": 2,
   "metadata": {},
   "outputs": [],
   "source": [
    "#Here let us run the featurization code and model on the test et given for submission"
   ]
  },
  {
   "cell_type": "code",
   "execution_count": 775,
   "metadata": {},
   "outputs": [],
   "source": [
    "test = pd.read_csv('test_indessa.csv')"
   ]
  },
  {
   "cell_type": "code",
   "execution_count": 776,
   "metadata": {},
   "outputs": [],
   "source": [
    "# getting final test features\n",
    "test = fillna(test)\n",
    "test = get_features(test)\n",
    "test,_ = remove_cols(test,is_train=False)\n",
    "final_test_num = get_normalized_features(test,num_cols,scaler)\n",
    "final_test_cat = get_encoded_category_features(test,cat_cols,count_vects)\n",
    "submission_test = pd.concat([final_test_num,final_test_cat],axis=1)"
   ]
  },
  {
   "cell_type": "code",
   "execution_count": 777,
   "metadata": {},
   "outputs": [],
   "source": [
    "# getting predicited probabilities from our xgboost model\n",
    "pred = xgb.predict_proba(submission_test[cols])\n",
    "pred = list(map(lambda row:row[1],pred))"
   ]
  },
  {
   "cell_type": "code",
   "execution_count": 778,
   "metadata": {},
   "outputs": [],
   "source": [
    "# saving final submission\n",
    "submission_test['loan_status'] = pred\n",
    "submission[['member_id','loan_status']].to_csv(r'submission.csv')"
   ]
  }
 ],
 "metadata": {
  "kernelspec": {
   "display_name": "Python 3",
   "language": "python",
   "name": "python3"
  },
  "language_info": {
   "codemirror_mode": {
    "name": "ipython",
    "version": 3
   },
   "file_extension": ".py",
   "mimetype": "text/x-python",
   "name": "python",
   "nbconvert_exporter": "python",
   "pygments_lexer": "ipython3",
   "version": "3.7.4"
  }
 },
 "nbformat": 4,
 "nbformat_minor": 2
}
